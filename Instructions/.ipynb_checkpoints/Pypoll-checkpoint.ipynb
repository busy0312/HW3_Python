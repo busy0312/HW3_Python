{
 "cells": [
  {
   "cell_type": "raw",
   "metadata": {},
   "source": [
    " * The total number of votes cast\n",
    "\n",
    "  * A complete list of candidates who received votes\n",
    "\n",
    "  * The percentage of votes each candidate won\n",
    "\n",
    "  * The total number of votes each candidate won\n",
    "\n",
    "  * The winner of the election based on popular vote.\n",
    "\n",
    "  Election Results\n",
    "  -------------------------\n",
    "  Total Votes: 3521001\n",
    "  -------------------------\n",
    "  Khan: 63.000% (2218231)\n",
    "  Correy: 20.000% (704200)\n",
    "  Li: 14.000% (492940)\n",
    "  O'Tooley: 3.000% (105630)\n",
    "  -------------------------\n",
    "  Winner: Khan\n",
    "  -------------------------"
   ]
  },
  {
   "cell_type": "code",
   "execution_count": 1,
   "metadata": {},
   "outputs": [
    {
     "data": {
      "text/plain": [
       "'../Instructions/Pypoll/Resources/election_data.csv'"
      ]
     },
     "execution_count": 1,
     "metadata": {},
     "output_type": "execute_result"
    }
   ],
   "source": [
    "import os \n",
    "import csv\n",
    "\n",
    "\n",
    "csvpath=os.path.join(\"..\",\"Instructions\",\"Pypoll\",\"Resources\",\"election_data.csv\")\n",
    "csvpath"
   ]
  },
  {
   "cell_type": "code",
   "execution_count": 2,
   "metadata": {},
   "outputs": [
    {
     "name": "stdout",
     "output_type": "stream",
     "text": [
      "Election Results\n",
      "----------------------------\n",
      "Total Votes:3521001\n",
      "----------------------------\n",
      "Khan:63.000%(2218231)\n",
      "Correy:20.000%(704200)\n",
      "Li:14.000%(492940)\n",
      "O'Tooley:3.000%(105630)\n",
      "----------------------------\n",
      "Winner: Khan\n",
      "----------------------------\n"
     ]
    }
   ],
   "source": [
    "with open(csvpath, mode=\"r\") as csvfile:\n",
    "    csvreader = csv.reader(csvfile,delimiter=\",\") \n",
    "    first_=next(csvreader) \n",
    "    data=list(csvreader)\n",
    "    length=len(data)\n",
    "    candidates = []\n",
    "    for i in data:\n",
    "        if i[2] not in candidates:\n",
    "                candidates.append(i[2])\n",
    "    name1=[]\n",
    "    name2=[]\n",
    "    name3=[]\n",
    "    name4=[]\n",
    "    for x in data:\n",
    "        if x[2]==candidates[0]:\n",
    "            name1.append(\"khan\")\n",
    "        elif x[2]==candidates[1]:\n",
    "            name2.append('Correy')\n",
    "        elif x[2]==candidates[2]:\n",
    "            name3.append('Li')\n",
    "        elif x[2]==candidates[3]:\n",
    "            name4.append(\"O'Tooley\")\n",
    "    percentage1='{0:.3%}'.format(len(name1)/length)\n",
    "    percentage2='{0:.3%}'.format(len(name2)/length)\n",
    "    percentage3='{0:.3%}'.format(len(name3)/length)\n",
    "    percentage4='{0:.3%}'.format(len(name4)/length)\n",
    "   \n",
    "    print(f\"Election Results\")\n",
    "    print(f\"----------------------------\")\n",
    "    print(f\"Total Votes:{length}\")     \n",
    "    print(f\"----------------------------\")\n",
    "    print(f\"{candidates[0]}:{percentage1}({len(name1)})\")\n",
    "    print(f\"{candidates[1]}:{percentage2}({len(name2)})\")\n",
    "    print(f\"{candidates[2]}:{percentage3}({len(name3)})\")\n",
    "    print(f\"{candidates[3]}:{percentage4}({len(name4)})\")\n",
    "    print(f\"----------------------------\")\n",
    "    print(f\"Winner: {candidates[0]}\")\n",
    "    print(\"----------------------------\")"
   ]
  },
  {
   "cell_type": "code",
   "execution_count": null,
   "metadata": {},
   "outputs": [],
   "source": [
    "pypolltxt = open(\"Pypoll.txt\", \"w\")\n",
    "print(f\"Election Results\",file=pypolltxt)\n",
    "print(f\"----------------------------\", file=pypolltxt)\n",
    "print(f\"Total Votes:{length}\", file=pypolltxt)     \n",
    "print(f\"----------------------------\", file=pypolltxt)\n",
    "print(f\"{candidates[0]}:{percentage1}({len(name1)})\", file=pypolltxt)\n",
    "print(f\"{candidates[1]}:{percentage2}({len(name2)})\", file=pypolltxt)\n",
    "print(f\"{candidates[2]}:{percentage3}({len(name3)})\", file=pypolltxt)\n",
    "print(f\"{candidates[3]}:{percentage4}({len(name4)})\", file=pypolltxt)\n",
    "print(f\"----------------------------\", file=pypolltxt)\n",
    "print(f\"Winner: {candidates[0]}\", file=pypolltxt)\n",
    "print(\"----------------------------\", file=pypolltxt)\n",
    "pypolltxt.close()"
   ]
  },
  {
   "cell_type": "code",
   "execution_count": null,
   "metadata": {},
   "outputs": [],
   "source": []
  },
  {
   "cell_type": "code",
   "execution_count": null,
   "metadata": {},
   "outputs": [],
   "source": []
  },
  {
   "cell_type": "code",
   "execution_count": null,
   "metadata": {},
   "outputs": [],
   "source": []
  }
 ],
 "metadata": {
  "kernelspec": {
   "display_name": "Python 3",
   "language": "python",
   "name": "python3"
  },
  "language_info": {
   "codemirror_mode": {
    "name": "ipython",
    "version": 3
   },
   "file_extension": ".py",
   "mimetype": "text/x-python",
   "name": "python",
   "nbconvert_exporter": "python",
   "pygments_lexer": "ipython3",
   "version": "3.6.10"
  }
 },
 "nbformat": 4,
 "nbformat_minor": 4
}
