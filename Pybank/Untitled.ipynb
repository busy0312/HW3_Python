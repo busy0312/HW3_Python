{
 "cells": [
  {
   "cell_type": "code",
   "execution_count": 1,
   "metadata": {},
   "outputs": [],
   "source": [
    "import os \n",
    "import csv"
   ]
  },
  {
   "cell_type": "code",
   "execution_count": 2,
   "metadata": {},
   "outputs": [
    {
     "data": {
      "text/plain": [
       "'../Instructions/Pybank/Resources/budget_data.csv'"
      ]
     },
     "execution_count": 2,
     "metadata": {},
     "output_type": "execute_result"
    }
   ],
   "source": [
    "#import csv\n",
    "csvpath=os.path.join(\"..\",\"Instructions\",\"Pybank\",\"Resources\",\"budget_data.csv\")\n",
    "csvpath"
   ]
  },
  {
   "cell_type": "code",
   "execution_count": 3,
   "metadata": {},
   "outputs": [
    {
     "name": "stdout",
     "output_type": "stream",
     "text": [
      "Financial Analysis\n",
      "----------------------------\n",
      "Total months: 86\n",
      "Total:$38382578\n",
      "Average Change:$-2315.12\n",
      "Greatest Increase in Profits: Feb-2012 (1926159)\n",
      "Greatest Decrease in Profits: Sep-2013 (-2196167)\n"
     ]
    }
   ],
   "source": [
    "with open(csvpath, mode=\"r\") as csvfile:\n",
    "    csvreader = csv.reader(csvfile,delimiter=\",\") \n",
    "    first_=next(csvreader)\n",
    "    data=list(csvreader)\n",
    "    length=len(data) \n",
    "    total = sum(int(col[1]) for col in data)  \n",
    "    init_value=int(data[0][1])\n",
    "    profit=[]\n",
    "    for i in data:\n",
    "        change =int(i[1])-init_value\n",
    "        profit.append(change)\n",
    "        init_value=(int(i[1]))\n",
    "    average=\"{:.2f}\".format(sum(profit)/(len(profit)-1))\n",
    "    increase=max(profit)\n",
    "    decrease=min(profit)\n",
    "    months_increase=profit.index(max(profit))\n",
    "    months_decrease=profit.index(min(profit))\n",
    "    in_month=data[months_increase][0]\n",
    "    de_month=data[months_decrease][0]\n",
    "    print(\"Financial Analysis\")\n",
    "    print(\"----------------------------\")\n",
    "    print(\"Total months: \"+ str(length))\n",
    "    print(f\"Total:${str(total)}\")\n",
    "    print(\"Average Change:$\"+str(average))\n",
    "    print(\"Greatest Increase in Profits: \"+str(in_month)+\" (\"+str(increase)+\")\")\n",
    "    print(\"Greatest Decrease in Profits: \"+str(de_month)+\" (\"+str(decrease)+\")\")\n",
    "   "
   ]
  },
  {
   "cell_type": "code",
   "execution_count": 4,
   "metadata": {},
   "outputs": [],
   "source": [
    "pybanktxt = open(\"Pybank.txt\", \"w\")\n",
    "print(\"Financial Analysis\", file=pybanktxt)\n",
    "print(\"----------------------------\", file=pybanktxt)\n",
    "print(\"Total months: \"+ str(length), file=pybanktxt)\n",
    "print(\"Total:$\"+str(total), file=pybanktxt)\n",
    "print(\"Average Change:$\"+str(average), file=pybanktxt)\n",
    "print(\"Greatest Increase in Profits: \"+str(in_month)+\" (\"+str(increase)+\")\", file=pybanktxt)\n",
    "print(\"Greatest Decrease in Profits: \"+str(de_month)+\" (\"+str(decrease)+\")\", file=pybanktxt)\n",
    "pybanktxt.close()\n"
   ]
  },
  {
   "cell_type": "code",
   "execution_count": null,
   "metadata": {},
   "outputs": [],
   "source": []
  }
 ],
 "metadata": {
  "kernelspec": {
   "display_name": "Python 3",
   "language": "python",
   "name": "python3"
  },
  "language_info": {
   "codemirror_mode": {
    "name": "ipython",
    "version": 3
   },
   "file_extension": ".py",
   "mimetype": "text/x-python",
   "name": "python",
   "nbconvert_exporter": "python",
   "pygments_lexer": "ipython3",
   "version": "3.6.10"
  }
 },
 "nbformat": 4,
 "nbformat_minor": 4
}
